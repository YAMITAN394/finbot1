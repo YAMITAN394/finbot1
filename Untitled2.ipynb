{
  "nbformat": 4,
  "nbformat_minor": 0,
  "metadata": {
    "colab": {
      "provenance": [],
      "authorship_tag": "ABX9TyP2wGgE2oTWrKvA25pRAye+",
      "include_colab_link": true
    },
    "kernelspec": {
      "name": "python3",
      "display_name": "Python 3"
    },
    "language_info": {
      "name": "python"
    }
  },
  "cells": [
    {
      "cell_type": "markdown",
      "metadata": {
        "id": "view-in-github",
        "colab_type": "text"
      },
      "source": [
        "<a href=\"https://colab.research.google.com/github/YAMITAN394/finbot1/blob/main/Untitled2.ipynb\" target=\"_parent\"><img src=\"https://colab.research.google.com/assets/colab-badge.svg\" alt=\"Open In Colab\"/></a>"
      ]
    },
    {
      "cell_type": "code",
      "execution_count": 5,
      "metadata": {
        "colab": {
          "base_uri": "https://localhost:8080/"
        },
        "id": "ZVzW0CZsOVlO",
        "outputId": "07d12b8c-5c66-4e95-d910-7ab6d7c4e11b"
      },
      "outputs": [
        {
          "output_type": "execute_result",
          "data": {
            "text/plain": [
              "[8, 2, 4, 6]"
            ]
          },
          "metadata": {},
          "execution_count": 5
        }
      ],
      "source": [
        "def filter_even(number):\n",
        "  result=[]\n",
        "  for num in number:\n",
        "    if num%2==0:\n",
        "      result.append(num)\n",
        "  return result\n",
        "\n",
        "number=[9,8,3,2,4,5,6]\n",
        "filter_even(number)"
      ]
    },
    {
      "cell_type": "code",
      "source": [
        "def loan_emi(Amount,duration,downpay):\n",
        "  loan_amount=Amount-downpay\n",
        "  emi=loan_amount/duration\n",
        "  return(emi)\n",
        "\n",
        "emi1=loan_emi(1.26e6,10*12,3e5)\n",
        "emi2=loan_emi(1.26e6,8*12,3e5)\n",
        "print(emi1-emi2)"
      ],
      "metadata": {
        "colab": {
          "base_uri": "https://localhost:8080/"
        },
        "id": "lNzER_8bRNuP",
        "outputId": "69d07ef6-9d01-4bb8-e299-3048ce9edb39"
      },
      "execution_count": 11,
      "outputs": [
        {
          "output_type": "stream",
          "name": "stdout",
          "text": [
            "-2000.0\n"
          ]
        }
      ]
    },
    {
      "cell_type": "code",
      "source": [
        "import math\n",
        "math.ceil(10.8)"
      ],
      "metadata": {
        "colab": {
          "base_uri": "https://localhost:8080/"
        },
        "id": "7CyljvWFTBbj",
        "outputId": "c0055542-69a2-491b-a520-fb8c20f00253"
      },
      "execution_count": 12,
      "outputs": [
        {
          "output_type": "execute_result",
          "data": {
            "text/plain": [
              "11"
            ]
          },
          "metadata": {},
          "execution_count": 12
        }
      ]
    },
    {
      "cell_type": "code",
      "source": [
        "import numpy as np\n",
        "weight=np.array([0.3,0.2,0.5])\n",
        "kanto=np.array([73,67,43])\n",
        "np.dot(weight,kanto)"
      ],
      "metadata": {
        "colab": {
          "base_uri": "https://localhost:8080/"
        },
        "id": "mMTXuEmtR-Nl",
        "outputId": "6f1a0066-db01-49df-ad0e-6e5c82b39b9a"
      },
      "execution_count": 24,
      "outputs": [
        {
          "output_type": "execute_result",
          "data": {
            "text/plain": [
              "np.float64(56.8)"
            ]
          },
          "metadata": {},
          "execution_count": 24
        }
      ]
    },
    {
      "cell_type": "code",
      "source": [
        "climate_data=np.array([[73,67,43],\n",
        "                  [91,88,64],\n",
        "                  [87,134,58],\n",
        "                  [102,43,37],\n",
        "                  [69,96,70]])\n",
        "weight=np.array([0.3,0.2,0.5])\n",
        "climate_data.shape\n",
        "climate_data.dtype\n",
        "np.matmul(climate_data,weight)\n",
        "climate_data @ weight\n"
      ],
      "metadata": {
        "colab": {
          "base_uri": "https://localhost:8080/"
        },
        "id": "hGpmQRGsWw3K",
        "outputId": "3a456541-1484-41c3-c2bc-72bb055018b9"
      },
      "execution_count": 32,
      "outputs": [
        {
          "output_type": "execute_result",
          "data": {
            "text/plain": [
              "array([56.8, 76.9, 81.9, 57.7, 74.9])"
            ]
          },
          "metadata": {},
          "execution_count": 32
        }
      ]
    },
    {
      "cell_type": "code",
      "source": [
        "climate_data=np.genfromtxt('weather_dataset.csv',delimiter=',',skip_header=1)\n",
        "climate_data.shape\n",
        "weight=np.array([0.3,0.2,0.5])\n",
        "yields=climate_data @ weight\n",
        "climate_results=np.concatenate((climate_data,yields.reshape(1000,1)),axis=1)\n",
        "climate_results\n"
      ],
      "metadata": {
        "colab": {
          "base_uri": "https://localhost:8080/"
        },
        "id": "JCX1NfQRY4RY",
        "outputId": "7f74f4c0-de71-4a42-bb64-8aa737f65afa"
      },
      "execution_count": 41,
      "outputs": [
        {
          "output_type": "execute_result",
          "data": {
            "text/plain": [
              "array([[26.23620357, 34.81063431,  0.        , 14.83298793],\n",
              "       [43.52142919, 63.35207579,  0.        , 25.72684392],\n",
              "       [36.95981825, 89.83566687,  1.        , 29.55507885],\n",
              "       ...,\n",
              "       [19.10455893, 25.51664131,  0.        , 10.83469594],\n",
              "       [43.50712061, 24.56437769,  0.        , 17.96501172],\n",
              "       [28.38017319, 42.57496598,  1.        , 17.52904515]])"
            ]
          },
          "metadata": {},
          "execution_count": 41
        }
      ]
    },
    {
      "cell_type": "code",
      "source": [
        "arr=np.array([[1,2,3,4],[5,6,7,8],[9,10,11,12]])\n",
        "arr2=np.array([[13,14,15,16],[17,18,19,20],[21,22,23,24]])\n",
        "arr+arr2\n",
        "arr%4\n",
        "arr*arr2\n",
        "arr2.shape"
      ],
      "metadata": {
        "colab": {
          "base_uri": "https://localhost:8080/"
        },
        "id": "iAAtnfboa_5R",
        "outputId": "e6225063-67a2-47cd-df63-4d182eab7868"
      },
      "execution_count": 46,
      "outputs": [
        {
          "output_type": "execute_result",
          "data": {
            "text/plain": [
              "(3, 4)"
            ]
          },
          "metadata": {},
          "execution_count": 46
        }
      ]
    },
    {
      "cell_type": "code",
      "source": [
        "arr4=np.array([4,5,6,7])\n",
        "arr4.shape"
      ],
      "metadata": {
        "colab": {
          "base_uri": "https://localhost:8080/"
        },
        "id": "r4SL9uXocCE9",
        "outputId": "e7b2b59e-7d8f-4f41-ab57-dd87f47cabbd"
      },
      "execution_count": 48,
      "outputs": [
        {
          "output_type": "execute_result",
          "data": {
            "text/plain": [
              "(4,)"
            ]
          },
          "metadata": {},
          "execution_count": 48
        }
      ]
    },
    {
      "cell_type": "code",
      "source": [
        "arr2+arr4"
      ],
      "metadata": {
        "colab": {
          "base_uri": "https://localhost:8080/"
        },
        "id": "FykwnUhxcNXE",
        "outputId": "3679d05d-db8e-46c4-b50f-8e5932cce1eb"
      },
      "execution_count": 49,
      "outputs": [
        {
          "output_type": "execute_result",
          "data": {
            "text/plain": [
              "array([[17, 19, 21, 23],\n",
              "       [21, 23, 25, 27],\n",
              "       [25, 27, 29, 31]])"
            ]
          },
          "metadata": {},
          "execution_count": 49
        }
      ]
    },
    {
      "cell_type": "code",
      "source": [
        "arr5=np.array([1,2,3,4])\n",
        "arr6=np.array([2,2,1,4])\n",
        "arr5==arr6\n"
      ],
      "metadata": {
        "colab": {
          "base_uri": "https://localhost:8080/"
        },
        "id": "Hx_Hyuiycs94",
        "outputId": "552554de-3207-42e2-f70b-8a7f3f775108"
      },
      "execution_count": 53,
      "outputs": [
        {
          "output_type": "execute_result",
          "data": {
            "text/plain": [
              "array([False, False, False, False])"
            ]
          },
          "metadata": {},
          "execution_count": 53
        }
      ]
    },
    {
      "cell_type": "code",
      "source": [
        "(arr5==arr6).sum()"
      ],
      "metadata": {
        "colab": {
          "base_uri": "https://localhost:8080/"
        },
        "id": "yrE-gr0gc_cF",
        "outputId": "2810b46d-7d99-4ae5-c94f-2d289de1be61"
      },
      "execution_count": 54,
      "outputs": [
        {
          "output_type": "execute_result",
          "data": {
            "text/plain": [
              "np.int64(2)"
            ]
          },
          "metadata": {},
          "execution_count": 54
        }
      ]
    },
    {
      "cell_type": "code",
      "source": [
        "np.zeros((1,2))\n"
      ],
      "metadata": {
        "colab": {
          "base_uri": "https://localhost:8080/"
        },
        "id": "WTGQw0OceYTH",
        "outputId": "35023bde-d330-4e99-b520-2b5284076dce"
      },
      "execution_count": 57,
      "outputs": [
        {
          "output_type": "execute_result",
          "data": {
            "text/plain": [
              "array([[0., 0.]])"
            ]
          },
          "metadata": {},
          "execution_count": 57
        }
      ]
    },
    {
      "cell_type": "code",
      "source": [
        "np.ones((3,5))"
      ],
      "metadata": {
        "colab": {
          "base_uri": "https://localhost:8080/"
        },
        "id": "8gc9qy-aeksg",
        "outputId": "4a698a48-34c2-477c-94bb-614707c2c139"
      },
      "execution_count": 58,
      "outputs": [
        {
          "output_type": "execute_result",
          "data": {
            "text/plain": [
              "array([[1., 1., 1., 1., 1.],\n",
              "       [1., 1., 1., 1., 1.],\n",
              "       [1., 1., 1., 1., 1.]])"
            ]
          },
          "metadata": {},
          "execution_count": 58
        }
      ]
    },
    {
      "cell_type": "code",
      "source": [
        "np.eye(8)"
      ],
      "metadata": {
        "colab": {
          "base_uri": "https://localhost:8080/"
        },
        "id": "HTXBfViheofI",
        "outputId": "08d47583-e94c-455c-bce5-666f87ce001a"
      },
      "execution_count": 59,
      "outputs": [
        {
          "output_type": "execute_result",
          "data": {
            "text/plain": [
              "array([[1., 0., 0., 0., 0., 0., 0., 0.],\n",
              "       [0., 1., 0., 0., 0., 0., 0., 0.],\n",
              "       [0., 0., 1., 0., 0., 0., 0., 0.],\n",
              "       [0., 0., 0., 1., 0., 0., 0., 0.],\n",
              "       [0., 0., 0., 0., 1., 0., 0., 0.],\n",
              "       [0., 0., 0., 0., 0., 1., 0., 0.],\n",
              "       [0., 0., 0., 0., 0., 0., 1., 0.],\n",
              "       [0., 0., 0., 0., 0., 0., 0., 1.]])"
            ]
          },
          "metadata": {},
          "execution_count": 59
        }
      ]
    },
    {
      "cell_type": "code",
      "source": [
        "np.random.rand(5)"
      ],
      "metadata": {
        "colab": {
          "base_uri": "https://localhost:8080/"
        },
        "id": "h5YF69aEetK3",
        "outputId": "3be939eb-4c98-4555-a391-827b162a29bf"
      },
      "execution_count": 60,
      "outputs": [
        {
          "output_type": "execute_result",
          "data": {
            "text/plain": [
              "array([0.82558355, 0.28725314, 0.1303902 , 0.02762621, 0.84166112])"
            ]
          },
          "metadata": {},
          "execution_count": 60
        }
      ]
    },
    {
      "cell_type": "code",
      "source": [
        "np.random.randn(2,3)"
      ],
      "metadata": {
        "colab": {
          "base_uri": "https://localhost:8080/"
        },
        "id": "6fOqJ-DTezyc",
        "outputId": "8409183f-da74-4271-d31a-35ba59472497"
      },
      "execution_count": 61,
      "outputs": [
        {
          "output_type": "execute_result",
          "data": {
            "text/plain": [
              "array([[-1.25585947,  0.08485795, -0.82079608],\n",
              "       [-0.38018989,  0.7282714 ,  0.34240675]])"
            ]
          },
          "metadata": {},
          "execution_count": 61
        }
      ]
    },
    {
      "cell_type": "code",
      "source": [
        "np.full([2,3],42)"
      ],
      "metadata": {
        "colab": {
          "base_uri": "https://localhost:8080/"
        },
        "id": "sqj4si2Ie9wX",
        "outputId": "8755138c-c065-4f64-9c01-ab2cb6ebe489"
      },
      "execution_count": 62,
      "outputs": [
        {
          "output_type": "execute_result",
          "data": {
            "text/plain": [
              "array([[42, 42, 42],\n",
              "       [42, 42, 42]])"
            ]
          },
          "metadata": {},
          "execution_count": 62
        }
      ]
    },
    {
      "cell_type": "code",
      "source": [
        "np.arange(10,90,3)"
      ],
      "metadata": {
        "colab": {
          "base_uri": "https://localhost:8080/"
        },
        "id": "zNfPXsb9fClM",
        "outputId": "496deb61-be44-41ae-80c6-8802becbaf92"
      },
      "execution_count": 63,
      "outputs": [
        {
          "output_type": "execute_result",
          "data": {
            "text/plain": [
              "array([10, 13, 16, 19, 22, 25, 28, 31, 34, 37, 40, 43, 46, 49, 52, 55, 58,\n",
              "       61, 64, 67, 70, 73, 76, 79, 82, 85, 88])"
            ]
          },
          "metadata": {},
          "execution_count": 63
        }
      ]
    },
    {
      "cell_type": "code",
      "source": [
        "np.arange(10,90,3).reshape(3,3,3)"
      ],
      "metadata": {
        "colab": {
          "base_uri": "https://localhost:8080/"
        },
        "id": "1PIz91pYfIqP",
        "outputId": "9572669e-3232-48ec-8f50-eb2ec9cd142d"
      },
      "execution_count": 64,
      "outputs": [
        {
          "output_type": "execute_result",
          "data": {
            "text/plain": [
              "array([[[10, 13, 16],\n",
              "        [19, 22, 25],\n",
              "        [28, 31, 34]],\n",
              "\n",
              "       [[37, 40, 43],\n",
              "        [46, 49, 52],\n",
              "        [55, 58, 61]],\n",
              "\n",
              "       [[64, 67, 70],\n",
              "        [73, 76, 79],\n",
              "        [82, 85, 88]]])"
            ]
          },
          "metadata": {},
          "execution_count": 64
        }
      ]
    },
    {
      "cell_type": "code",
      "source": [
        "np.linspace(3,27,15)"
      ],
      "metadata": {
        "colab": {
          "base_uri": "https://localhost:8080/"
        },
        "id": "dd2eGTnEfSfi",
        "outputId": "2f01e5c2-93bc-4308-d596-d638195f4042"
      },
      "execution_count": 66,
      "outputs": [
        {
          "output_type": "execute_result",
          "data": {
            "text/plain": [
              "array([ 3.        ,  4.71428571,  6.42857143,  8.14285714,  9.85714286,\n",
              "       11.57142857, 13.28571429, 15.        , 16.71428571, 18.42857143,\n",
              "       20.14285714, 21.85714286, 23.57142857, 25.28571429, 27.        ])"
            ]
          },
          "metadata": {},
          "execution_count": 66
        }
      ]
    },
    {
      "cell_type": "code",
      "source": [
        "import os\n",
        "os.curdir\n",
        "os.listdir\n",
        "os.makedirs('./data')"
      ],
      "metadata": {
        "id": "6M9ZrT9SgYzn"
      },
      "execution_count": 69,
      "outputs": []
    },
    {
      "cell_type": "markdown",
      "source": [
        "split\n",
        "strip\n",
        "readlines\n",
        "open\n",
        "close"
      ],
      "metadata": {
        "id": "5JDSwlfohqmm"
      }
    }
  ]
}